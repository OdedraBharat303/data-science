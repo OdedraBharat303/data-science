{
 "cells": [
  {
   "cell_type": "code",
   "execution_count": 3,
   "metadata": {},
   "outputs": [
    {
     "name": "stdout",
     "output_type": "stream",
     "text": [
      "enter  ur age19\n",
      " press 1 for gov\n",
      "press 2 for private\n",
      "enter ur number2\n",
      "for private\n"
     ]
    }
   ],
   "source": [
    "age=int(input(\"enter  ur age\"))\n",
    "if age>18:\n",
    "    print(\" press 1 for gov\")\n",
    "    print(\"press 2 for private\")\n",
    "    a= int(input(\"enter ur number\"))\n",
    "    if a==1:\n",
    "        print(\"higher for gov\")\n",
    "    elif a==2:\n",
    "        print(\"for private\")\n",
    "    else:\n",
    "        print(\"shoud enter input\")\n",
    "else:\n",
    "    print(\"abhi chote ho janab\")"
   ]
  },
  {
   "cell_type": "code",
   "execution_count": 31,
   "metadata": {},
   "outputs": [
    {
     "name": "stdout",
     "output_type": "stream",
     "text": [
      "enter foo | bar :foo\n",
      "bar\n"
     ]
    }
   ],
   "source": [
    "a=input(\"enter foo | bar :\").strip().lower()\n",
    "a=''.join(a.split())\n",
    "b==\"foo\"\n",
    "c==\"bar\"\n",
    "if a==b:\n",
    "    print(\"bar\")\n",
    "elif a==c:\n",
    "    print(\"foo\")\n",
    "else:\n",
    "    print(\"enter foo | bar\")\n",
    "   \n"
   ]
  },
  {
   "cell_type": "code",
   "execution_count": 1,
   "metadata": {},
   "outputs": [
    {
     "name": "stdout",
     "output_type": "stream",
     "text": [
      "want to find leap year..????..\tenter the year please..!!!!\n",
      "2019\n",
      "oops..!! sorry.!!.its not leap year..\n"
     ]
    }
   ],
   "source": [
    "year=int(input(\"want to find leap year..????..\\tenter the year please..!!!!\\n\"))\n",
    "if (year%4==0 and year%100 != 0)or(year%400==0):\n",
    "    print(\"enjoy one more day in a year !! its a leap year...\")\n",
    "else:\n",
    "    print(\"oops..!! sorry.!!.its not leap year..\")"
   ]
  },
  {
   "cell_type": "code",
   "execution_count": null,
   "metadata": {},
   "outputs": [],
   "source": []
  },
  {
   "cell_type": "code",
   "execution_count": 14,
   "metadata": {},
   "outputs": [
    {
     "name": "stdout",
     "output_type": "stream",
     "text": [
      "enter  ur number:-1:\t10\n",
      "enter  ur number:-2:\t20\n",
      "enter  ur operator :\t*\n",
      "ans is :\t\t 200\n"
     ]
    }
   ],
   "source": [
    "a=int(input(\"enter  ur number:-1:\\t\"))\n",
    "b=int(input(\"enter  ur number:-2:\\t\"))\n",
    "c=(input(\"enter  ur operator :\\t\"))\n",
    "if c == '+' :\n",
    "    print(\"ans is :\\t\\t\",a+b)\n",
    "if c == '-' :\n",
    "    print(\"ans is :\\t\\t\",a-b)\n",
    "if c == '*' :\n",
    "    print(\"ans is :\\t\\t\",a*b)\n",
    "if c == '/' :\n",
    "    print(\"ans is :\\t\\t\",a/b)\n",
    "if c == '**' :\n",
    "    print(\"ans is :\\t\\t\",a**b)\n",
    "if c == '%' :\n",
    "    print(\"ans is :\\t\\t\",a%b)\n",
    "if c == '//' :\n",
    "    print(\"ans is :\\t\\t\",a//b)\n",
    "\n",
    "\n"
   ]
  },
  {
   "cell_type": "code",
   "execution_count": 45,
   "metadata": {},
   "outputs": [
    {
     "name": "stdout",
     "output_type": "stream",
     "text": [
      "enter number1\n",
      "dict_values(['january', 'fab', 'march', 'april', 'may', 'june', 'july', 'aug', 'sept', 'oct', 'nov', 'dec'])\n"
     ]
    }
   ],
   "source": [
    "\n",
    "b={1:\"january\",\n",
    "   2:\"fab\",\n",
    "3:\"march\",\n",
    "4:\"april\",\n",
    "5:\"may\",\n",
    "6:\"june\",\n",
    "7:\"july\",\n",
    "8:\"aug\",\n",
    "9:\"sept\",\n",
    "10:\"oct\",\n",
    "11:\"nov\",\n",
    "12:\"dec\"}\n",
    "a=int(input(\"enter number\"))\n",
    "if a in b.keys():\n",
    "    print(b.values())\n",
    "    "
   ]
  },
  {
   "cell_type": "code",
   "execution_count": 58,
   "metadata": {},
   "outputs": [
    {
     "name": "stdout",
     "output_type": "stream",
     "text": [
      "enter number4\n",
      "your month is aprl\n",
      "befour month  : aprl mar fab jan\n",
      "after month  : may jun july aug sep oct nov dec\n"
     ]
    }
   ],
   "source": [
    "mon=['jan','fab','mar','aprl','may','jun','july','aug','sep','oct','nov','dec']\n",
    "n=int(input(\"enter number\"))\n",
    "\n",
    "if n>=1 and n<=12:\n",
    "    print(\"your month is\",mon[n-1])\n",
    "    print(\"befour month  :\",*mon[n-1::-1])\n",
    "    print(\"after month  :\",*mon[n:])\n",
    "else:\n",
    "    print(\"valid input\")\n",
    "    "
   ]
  },
  {
   "cell_type": "code",
   "execution_count": 5,
   "metadata": {},
   "outputs": [
    {
     "name": "stdout",
     "output_type": "stream",
     "text": [
      "enter player 1 input1\n",
      "enter player 2 input3\n",
      "won p1\n"
     ]
    }
   ],
   "source": [
    "player1=['paper','sissor','rock']\n",
    "player2=['paper','sissor','rock']\n",
    "n=int(input(\"enter player 1 input\"))\n",
    "m=int(input(\"enter player 2 input\"))\n",
    "if (n==\"paper\" and m==\"rock\") or (n==\"sissor\" and m==\"paper\") or (n==\"rock\" and m==\"\") :\n",
    "    print(\"won p1\")\n",
    "\n",
    "elif n==m:\n",
    "    print(\"equal\")\n",
    "else:\n",
    "    print(\"won p2\")"
   ]
  },
  {
   "cell_type": "code",
   "execution_count": 7,
   "metadata": {},
   "outputs": [
    {
     "data": {
      "text/plain": [
       "'sissor'"
      ]
     },
     "execution_count": 7,
     "metadata": {},
     "output_type": "execute_result"
    }
   ],
   "source": [
    "player1[1]"
   ]
  },
  {
   "cell_type": "code",
   "execution_count": null,
   "metadata": {},
   "outputs": [],
   "source": []
  }
 ],
 "metadata": {
  "kernelspec": {
   "display_name": "Python 3",
   "language": "python",
   "name": "python3"
  },
  "language_info": {
   "codemirror_mode": {
    "name": "ipython",
    "version": 3
   },
   "file_extension": ".py",
   "mimetype": "text/x-python",
   "name": "python",
   "nbconvert_exporter": "python",
   "pygments_lexer": "ipython3",
   "version": "3.6.5"
  }
 },
 "nbformat": 4,
 "nbformat_minor": 2
}
