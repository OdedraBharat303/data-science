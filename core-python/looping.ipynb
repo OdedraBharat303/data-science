{
 "cells": [
  {
   "cell_type": "code",
   "execution_count": 6,
   "metadata": {},
   "outputs": [
    {
     "name": "stdout",
     "output_type": "stream",
     "text": [
      "4\n",
      "enter any nuber4\n",
      "ur winner\n"
     ]
    }
   ],
   "source": [
    "import random\n",
    "a=random.randint(1,50)\n",
    "print(a)\n",
    "\n",
    "\n",
    "\n",
    "count=1\n",
    "while count<=5:\n",
    "    u=int(input(\"enter any nuber\"))\n",
    "    \n",
    "    \n",
    "    if count==5:\n",
    "        print(\"looser\")\n",
    "\n",
    "        break\n",
    "    elif a==u:\n",
    "        print(\"ur winner\")\n",
    "        break\n",
    "    elif u<a:\n",
    "        print(\"number is less\")\n",
    "    elif u>a:\n",
    "        print(\"number is greater\")\n",
    "    count=count+1\n",
    "\n",
    "    "
   ]
  },
  {
   "cell_type": "code",
   "execution_count": 5,
   "metadata": {},
   "outputs": [
    {
     "name": "stdout",
     "output_type": "stream",
     "text": [
      "enter number5\n",
      "available {4}\n"
     ]
    }
   ],
   "source": [
    "li=[1,2,3,4,5,6,7]\n",
    "a=int(input(\"enter number\"))\n",
    "while a in li:\n",
    "    print(\"available\",{li.index(a)})\n",
    "    break\n",
    "else:\n",
    "    print(\"nahinhai\")"
   ]
  },
  {
   "cell_type": "code",
   "execution_count": 11,
   "metadata": {},
   "outputs": [
    {
     "name": "stdout",
     "output_type": "stream",
     "text": [
      "enter number5\n",
      "5 * 1 = 5\n",
      "5 * 2 = 10\n",
      "5 * 3 = 15\n",
      "5 * 4 = 20\n",
      "5 * 5 = 25\n",
      "5 * 6 = 30\n",
      "5 * 7 = 35\n",
      "5 * 8 = 40\n",
      "5 * 9 = 45\n",
      "5 * 10 = 50\n"
     ]
    }
   ],
   "source": [
    "a=int(input(\"enter number\"))\n",
    "for f in range (1,11):\n",
    "    print(f'{a} * {f} = {a*f}')"
   ]
  },
  {
   "cell_type": "code",
   "execution_count": 16,
   "metadata": {},
   "outputs": [
    {
     "name": "stdout",
     "output_type": "stream",
     "text": [
      "enter number8\n",
      "8 * 1 = 8\n",
      "8 * 2 = 16\n",
      "8 * 3 = 24\n",
      "8 * 4 = 32\n",
      "8 * 5 = 40\n",
      "8 * 6 = 48\n",
      "8 * 7 = 56\n",
      "8 * 8 = 64\n",
      "8 * 9 = 72\n",
      "8 * 10 = 80\n"
     ]
    }
   ],
   "source": [
    "a=int(input(\"enter number\"))\n",
    "b=0\n",
    "while b<10:\n",
    "    b+=1\n",
    "    print(f'{a} * {b} = {a*b}')\n",
    "    "
   ]
  },
  {
   "cell_type": "code",
   "execution_count": 19,
   "metadata": {},
   "outputs": [
    {
     "name": "stdout",
     "output_type": "stream",
     "text": [
      "p==b\n",
      "p==h\n",
      "p==a\n",
      "p==r\n",
      "p==a\n",
      "p==t\n",
      "y==b\n",
      "y==h\n",
      "y==a\n",
      "y==r\n",
      "y==a\n",
      "y==t\n",
      "t==b\n",
      "t==h\n",
      "t==a\n",
      "t==r\n",
      "t==a\n",
      "t==t\n",
      "h==b\n",
      "h==h\n",
      "h==a\n",
      "h==r\n",
      "h==a\n",
      "h==t\n",
      "o==b\n",
      "o==h\n",
      "o==a\n",
      "o==r\n",
      "o==a\n",
      "o==t\n",
      "n==b\n",
      "n==h\n",
      "n==a\n",
      "n==r\n",
      "n==a\n",
      "n==t\n"
     ]
    }
   ],
   "source": [
    "for var in 'python':\n",
    "    for tar in 'bharat':\n",
    "        print(var,tar,sep='==')"
   ]
  },
  {
   "cell_type": "code",
   "execution_count": 22,
   "metadata": {},
   "outputs": [
    {
     "data": {
      "text/plain": [
       "[(1, 'a'), (2, 'b')]"
      ]
     },
     "execution_count": 22,
     "metadata": {},
     "output_type": "execute_result"
    }
   ],
   "source": [
    "a=['a','b','c']\n",
    "b=[1,2]\n",
    "list(zip(b,a))"
   ]
  }
 ],
 "metadata": {
  "kernelspec": {
   "display_name": "Python 3",
   "language": "python",
   "name": "python3"
  },
  "language_info": {
   "codemirror_mode": {
    "name": "ipython",
    "version": 3
   },
   "file_extension": ".py",
   "mimetype": "text/x-python",
   "name": "python",
   "nbconvert_exporter": "python",
   "pygments_lexer": "ipython3",
   "version": "3.6.5"
  }
 },
 "nbformat": 4,
 "nbformat_minor": 2
}
