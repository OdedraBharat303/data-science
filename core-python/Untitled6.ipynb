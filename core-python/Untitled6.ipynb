{
 "cells": [
  {
   "cell_type": "code",
   "execution_count": 2,
   "metadata": {},
   "outputs": [
    {
     "data": {
      "text/plain": [
       "['bharat', 'abhay', 'akshy']"
      ]
     },
     "execution_count": 2,
     "metadata": {},
     "output_type": "execute_result"
    }
   ],
   "source": [
    "a=(['bharat','abhay','akshy'])\n",
    "a"
   ]
  },
  {
   "cell_type": "code",
   "execution_count": 20,
   "metadata": {},
   "outputs": [
    {
     "data": {
      "text/plain": [
       "['bharat',\n",
       " 'abhay',\n",
       " 'akshy',\n",
       " 'b',\n",
       " 'a',\n",
       " 'bharat',\n",
       " 'a',\n",
       " 'bharat',\n",
       " 'a',\n",
       " 'bharat',\n",
       " 'a',\n",
       " 'bharat',\n",
       " 'a',\n",
       " 'bharat',\n",
       " 'a',\n",
       " 'bharat',\n",
       " 'a',\n",
       " 'bharat',\n",
       " 'a',\n",
       " 'bharat',\n",
       " 'a',\n",
       " 'bharat',\n",
       " 'a',\n",
       " 'bharat',\n",
       " 'a',\n",
       " 'bharat',\n",
       " 'a',\n",
       " 'bharat',\n",
       " 'a',\n",
       " 'bharat',\n",
       " 'a',\n",
       " 'bharat',\n",
       " 'a',\n",
       " 'bharat',\n",
       " 'a',\n",
       " 'bharat',\n",
       " 'a',\n",
       " 'bharat',\n",
       " 'a']"
      ]
     },
     "execution_count": 20,
     "metadata": {},
     "output_type": "execute_result"
    }
   ],
   "source": [
    "a.extend({'a','bharat',})\n",
    "a"
   ]
  },
  {
   "cell_type": "code",
   "execution_count": 22,
   "metadata": {},
   "outputs": [
    {
     "data": {
      "text/plain": [
       "['bharat',\n",
       " 'abhay',\n",
       " 'akshy',\n",
       " 'b',\n",
       " 'a',\n",
       " 'bharat',\n",
       " 'a',\n",
       " 'bharat',\n",
       " 'a',\n",
       " 'bharat',\n",
       " 'a',\n",
       " 'bharat',\n",
       " 'a',\n",
       " 'bharat',\n",
       " 'a',\n",
       " 'bharat',\n",
       " 'a',\n",
       " 'bharat',\n",
       " 'a',\n",
       " 'bharat',\n",
       " 'a',\n",
       " 'bharat',\n",
       " 'a',\n",
       " 'bharat',\n",
       " 'a',\n",
       " 'bharat',\n",
       " 'a',\n",
       " 'bharat',\n",
       " 'a',\n",
       " 'bharat',\n",
       " 'a',\n",
       " 'bharat',\n",
       " 'a',\n",
       " 'bharat',\n",
       " 'a',\n",
       " 'bharat',\n",
       " 'a',\n",
       " 'bharat',\n",
       " 'a',\n",
       " 'shavan',\n",
       " 'shavan']"
      ]
     },
     "execution_count": 22,
     "metadata": {},
     "output_type": "execute_result"
    }
   ],
   "source": [
    "a.append(\"shavan\")\n",
    "a"
   ]
  },
  {
   "cell_type": "code",
   "execution_count": 23,
   "metadata": {},
   "outputs": [
    {
     "data": {
      "text/plain": [
       "('bhrat', 'abhay')"
      ]
     },
     "execution_count": 23,
     "metadata": {},
     "output_type": "execute_result"
    }
   ],
   "source": [
    "b=('bhrat','abhay')\n",
    "b"
   ]
  },
  {
   "cell_type": "code",
   "execution_count": 35,
   "metadata": {},
   "outputs": [
    {
     "ename": "AttributeError",
     "evalue": "'tuple' object has no attribute 'extend'",
     "output_type": "error",
     "traceback": [
      "\u001b[1;31m---------------------------------------------------------------------------\u001b[0m",
      "\u001b[1;31mAttributeError\u001b[0m                            Traceback (most recent call last)",
      "\u001b[1;32m<ipython-input-35-e811d5b2fec1>\u001b[0m in \u001b[0;36m<module>\u001b[1;34m()\u001b[0m\n\u001b[1;32m----> 1\u001b[1;33m \u001b[0mb\u001b[0m\u001b[1;33m.\u001b[0m\u001b[0mextend\u001b[0m\u001b[1;33m(\u001b[0m\u001b[1;33m[\u001b[0m\u001b[1;34m'bharat'\u001b[0m\u001b[1;33m,\u001b[0m\u001b[1;34m'bharat'\u001b[0m\u001b[1;33m]\u001b[0m\u001b[1;33m)\u001b[0m\u001b[1;33m\u001b[0m\u001b[0m\n\u001b[0m\u001b[0;32m      2\u001b[0m \u001b[0mb\u001b[0m\u001b[1;33m\u001b[0m\u001b[0m\n",
      "\u001b[1;31mAttributeError\u001b[0m: 'tuple' object has no attribute 'extend'"
     ]
    }
   ],
   "source": [
    "b.extend(['bharat','bharat'])\n",
    "b"
   ]
  },
  {
   "cell_type": "code",
   "execution_count": null,
   "metadata": {},
   "outputs": [],
   "source": []
  },
  {
   "cell_type": "code",
   "execution_count": null,
   "metadata": {},
   "outputs": [],
   "source": []
  }
 ],
 "metadata": {
  "kernelspec": {
   "display_name": "Python 3",
   "language": "python",
   "name": "python3"
  },
  "language_info": {
   "codemirror_mode": {
    "name": "ipython",
    "version": 3
   },
   "file_extension": ".py",
   "mimetype": "text/x-python",
   "name": "python",
   "nbconvert_exporter": "python",
   "pygments_lexer": "ipython3",
   "version": "3.6.5"
  }
 },
 "nbformat": 4,
 "nbformat_minor": 2
}
