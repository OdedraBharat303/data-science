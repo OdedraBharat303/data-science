{
 "cells": [
  {
   "cell_type": "markdown",
   "metadata": {},
   "source": [
    "# file handling in python"
   ]
  },
  {
   "cell_type": "code",
   "execution_count": 1,
   "metadata": {},
   "outputs": [
    {
     "name": "stdout",
     "output_type": "stream",
     "text": [
      " Volume in drive C has no label.\n",
      " Volume Serial Number is 42BB-F143\n",
      "\n",
      " Directory of C:\\Users\\BHARAT\\Desktop\\Python\n",
      "\n",
      "10/01/2019  02:53 AM    <DIR>          .\n",
      "10/01/2019  02:53 AM    <DIR>          ..\n",
      "10/01/2019  02:51 AM    <DIR>          .ipynb_checkpoints\n",
      "08/05/2019  12:36 AM               127 1st.py\n",
      "08/05/2019  12:45 AM               144 2nd.py\n",
      "08/05/2019  12:54 AM               167 3rd.py\n",
      "08/05/2019  01:18 AM               132 6th.py\n",
      "08/07/2019  01:47 AM               212 armstrong.py\n",
      "08/29/2019  04:03 AM             8,552 basic string.ipynb\n",
      "08/05/2019  01:43 AM               473 choice.py\n",
      "09/11/2019  03:37 AM             1,045 conditional statmant.ipynb\n",
      "09/12/2019  04:32 AM             6,106 conditional.ipynb\n",
      "09/04/2019  04:13 AM             5,104 dictionary.ipynb\n",
      "08/05/2019  01:01 AM               173 evenodd.py\n",
      "10/01/2019  02:53 AM               663 file and exception.ipynb\n",
      "08/07/2019  02:20 AM                98 for.py\n",
      "10/01/2019  02:48 AM            46,914 function.ipynb\n",
      "08/05/2019  01:22 AM               194 intress.py\n",
      "08/05/2019  02:58 AM               378 lastdigit.py\n",
      "10/01/2019  02:46 AM             6,012 lemda.ipynb\n",
      "09/01/2019  12:58 AM             4,300 list,dict&tuples.ipynb\n",
      "09/04/2019  03:00 AM             2,136 list.ipynb\n",
      "08/05/2019  10:27 PM                67 logic.py\n",
      "09/19/2019  03:09 AM         1,041,272 loop practice.ipynb\n",
      "08/05/2019  11:18 PM                53 loop.py\n",
      "08/05/2019  11:40 PM                94 loop1.py\n",
      "08/06/2019  01:29 AM               517 loop3.py\n",
      "08/07/2019  02:01 AM               142 loop4.py\n",
      "09/16/2019  05:26 AM             4,153 looping.ipynb\n",
      "09/16/2019  04:09 AM             5,006 loops......ipynb\n",
      "08/07/2019  04:17 AM               414 magic.py\n",
      "08/06/2019  01:30 AM               251 nestedif.py\n",
      "08/05/2019  11:07 PM               484 nif.py\n",
      "08/08/2019  01:20 AM                95 pattern1.py\n",
      "08/07/2019  04:17 AM               190 pelindrom'.py\n",
      "08/12/2019  12:36 AM               192 prime.py\n",
      "08/12/2019  12:25 AM               289 prime1.py\n",
      "08/11/2019  11:57 PM               250 prime2.py\n",
      "08/08/2019  03:56 AM               369 pttn10.py\n",
      "08/08/2019  01:58 AM                97 pttn2.py\n",
      "08/08/2019  01:34 AM                91 pttn3.py\n",
      "08/08/2019  01:41 AM                93 pttn4.py\n",
      "08/08/2019  01:42 AM               129 pttn5.py\n",
      "08/08/2019  01:48 AM               123 pttn6.py\n",
      "08/08/2019  01:53 AM                94 pttn7.py\n",
      "08/08/2019  03:21 AM               185 pttn8.py\n",
      "08/08/2019  02:11 AM               188 pttn9.py\n",
      "09/19/2019  03:42 AM                13 README.md\n",
      "08/07/2019  01:56 AM               112 rev.py\n",
      "08/07/2019  01:57 AM               114 rev1.py\n",
      "09/02/2019  04:16 AM             6,888 string fun.ipynb\n",
      "08/07/2019  01:30 AM               148 ttric1.py\n",
      "08/07/2019  02:10 AM               182 ttric2.py\n",
      "08/07/2019  02:27 AM               210 twin.py\n",
      "08/28/2019  02:24 AM               838 Untitled.ipynb\n",
      "08/28/2019  02:25 AM               555 Untitled1.ipynb\n",
      "09/30/2019  11:42 PM               555 Untitled10.ipynb\n",
      "08/29/2019  01:16 AM             3,670 Untitled2.ipynb\n",
      "08/29/2019  01:16 AM                72 Untitled3.ipynb\n",
      "09/03/2019  02:48 AM             1,114 Untitled4.ipynb\n",
      "09/04/2019  02:28 AM             6,216 Untitled5.ipynb\n",
      "09/05/2019  04:35 AM             4,744 Untitled6.ipynb\n",
      "09/16/2019  04:16 AM             1,099 Untitled7.ipynb\n",
      "09/16/2019  04:17 AM             1,105 Untitled8.ipynb\n",
      "09/25/2019  04:35 AM             2,553 Untitled9.ipynb\n",
      "08/05/2019  01:09 AM               144 vowel.py\n",
      "08/05/2019  01:54 AM               524 week.py\n",
      "              64 File(s)      1,168,624 bytes\n",
      "               3 Dir(s)  75,026,448,384 bytes free\n"
     ]
    }
   ],
   "source": [
    "ls"
   ]
  },
  {
   "cell_type": "code",
   "execution_count": 9,
   "metadata": {},
   "outputs": [
    {
     "name": "stdout",
     "output_type": "stream",
     "text": [
      "['_CHUNK_SIZE', '__class__', '__del__', '__delattr__', '__dict__', '__dir__', '__doc__', '__enter__', '__eq__', '__exit__', '__format__', '__ge__', '__getattribute__', '__getstate__', '__gt__', '__hash__', '__init__', '__init_subclass__', '__iter__', '__le__', '__lt__', '__ne__', '__new__', '__next__', '__reduce__', '__reduce_ex__', '__repr__', '__setattr__', '__sizeof__', '__str__', '__subclasshook__', '_checkClosed', '_checkReadable', '_checkSeekable', '_checkWritable', '_finalizing', 'buffer', 'close', 'closed', 'detach', 'encoding', 'errors', 'fileno', 'flush', 'isatty', 'line_buffering', 'mode', 'name', 'newlines', 'read', 'readable', 'readline', 'readlines', 'seek', 'seekable', 'tell', 'truncate', 'writable', 'write', 'writelines']\n"
     ]
    }
   ],
   "source": [
    "print(dir(f))"
   ]
  },
  {
   "cell_type": "code",
   "execution_count": 11,
   "metadata": {},
   "outputs": [
    {
     "data": {
      "text/plain": [
       "49"
      ]
     },
     "execution_count": 11,
     "metadata": {},
     "output_type": "execute_result"
    }
   ],
   "source": [
    "f.write(\"this is the file for file handling used by python\")"
   ]
  },
  {
   "cell_type": "code",
   "execution_count": 13,
   "metadata": {},
   "outputs": [],
   "source": [
    "f.close()"
   ]
  },
  {
   "cell_type": "code",
   "execution_count": 14,
   "metadata": {},
   "outputs": [
    {
     "name": "stdout",
     "output_type": "stream",
     "text": [
      " Volume in drive C has no label.\n",
      " Volume Serial Number is 42BB-F143\n",
      "\n",
      " Directory of C:\\Users\\BHARAT\\Desktop\\Python\n",
      "\n",
      "10/01/2019  03:35 AM    <DIR>          .\n",
      "10/01/2019  03:35 AM    <DIR>          ..\n",
      "10/01/2019  02:51 AM    <DIR>          .ipynb_checkpoints\n",
      "08/05/2019  12:36 AM               127 1st.py\n",
      "08/05/2019  12:45 AM               144 2nd.py\n",
      "08/05/2019  12:54 AM               167 3rd.py\n",
      "08/05/2019  01:18 AM               132 6th.py\n",
      "08/07/2019  01:47 AM               212 armstrong.py\n",
      "08/29/2019  04:03 AM             8,552 basic string.ipynb\n",
      "08/05/2019  01:43 AM               473 choice.py\n",
      "09/11/2019  03:37 AM             1,045 conditional statmant.ipynb\n",
      "09/12/2019  04:32 AM             6,106 conditional.ipynb\n",
      "09/04/2019  04:13 AM             5,104 dictionary.ipynb\n",
      "08/05/2019  01:01 AM               173 evenodd.py\n",
      "10/01/2019  03:35 AM             6,473 file and exception.ipynb\n",
      "10/01/2019  03:36 AM                98 file,txt\n",
      "08/07/2019  02:20 AM                98 for.py\n",
      "10/01/2019  02:48 AM            46,914 function.ipynb\n",
      "08/05/2019  01:22 AM               194 intress.py\n",
      "08/05/2019  02:58 AM               378 lastdigit.py\n",
      "10/01/2019  02:46 AM             6,012 lemda.ipynb\n",
      "09/01/2019  12:58 AM             4,300 list,dict&tuples.ipynb\n",
      "09/04/2019  03:00 AM             2,136 list.ipynb\n",
      "08/05/2019  10:27 PM                67 logic.py\n",
      "09/19/2019  03:09 AM         1,041,272 loop practice.ipynb\n",
      "08/05/2019  11:18 PM                53 loop.py\n",
      "08/05/2019  11:40 PM                94 loop1.py\n",
      "08/06/2019  01:29 AM               517 loop3.py\n",
      "08/07/2019  02:01 AM               142 loop4.py\n",
      "09/16/2019  05:26 AM             4,153 looping.ipynb\n",
      "09/16/2019  04:09 AM             5,006 loops......ipynb\n",
      "08/07/2019  04:17 AM               414 magic.py\n",
      "08/06/2019  01:30 AM               251 nestedif.py\n",
      "08/05/2019  11:07 PM               484 nif.py\n",
      "08/08/2019  01:20 AM                95 pattern1.py\n",
      "08/07/2019  04:17 AM               190 pelindrom'.py\n",
      "08/12/2019  12:36 AM               192 prime.py\n",
      "08/12/2019  12:25 AM               289 prime1.py\n",
      "08/11/2019  11:57 PM               250 prime2.py\n",
      "08/08/2019  03:56 AM               369 pttn10.py\n",
      "08/08/2019  01:58 AM                97 pttn2.py\n",
      "08/08/2019  01:34 AM                91 pttn3.py\n",
      "08/08/2019  01:41 AM                93 pttn4.py\n",
      "08/08/2019  01:42 AM               129 pttn5.py\n",
      "08/08/2019  01:48 AM               123 pttn6.py\n",
      "08/08/2019  01:53 AM                94 pttn7.py\n",
      "08/08/2019  03:21 AM               185 pttn8.py\n",
      "08/08/2019  02:11 AM               188 pttn9.py\n",
      "09/19/2019  03:42 AM                13 README.md\n",
      "08/07/2019  01:56 AM               112 rev.py\n",
      "08/07/2019  01:57 AM               114 rev1.py\n",
      "09/02/2019  04:16 AM             6,888 string fun.ipynb\n",
      "08/07/2019  01:30 AM               148 ttric1.py\n",
      "08/07/2019  02:10 AM               182 ttric2.py\n",
      "08/07/2019  02:27 AM               210 twin.py\n",
      "08/28/2019  02:24 AM               838 Untitled.ipynb\n",
      "08/28/2019  02:25 AM               555 Untitled1.ipynb\n",
      "09/30/2019  11:42 PM               555 Untitled10.ipynb\n",
      "08/29/2019  01:16 AM             3,670 Untitled2.ipynb\n",
      "08/29/2019  01:16 AM                72 Untitled3.ipynb\n",
      "09/03/2019  02:48 AM             1,114 Untitled4.ipynb\n",
      "09/04/2019  02:28 AM             6,216 Untitled5.ipynb\n",
      "09/05/2019  04:35 AM             4,744 Untitled6.ipynb\n",
      "09/16/2019  04:16 AM             1,099 Untitled7.ipynb\n",
      "09/16/2019  04:17 AM             1,105 Untitled8.ipynb\n",
      "09/25/2019  04:35 AM             2,553 Untitled9.ipynb\n",
      "08/05/2019  01:09 AM               144 vowel.py\n",
      "08/05/2019  01:54 AM               524 week.py\n",
      "              65 File(s)      1,174,532 bytes\n",
      "               3 Dir(s)  75,026,018,304 bytes free\n"
     ]
    }
   ],
   "source": [
    "ls"
   ]
  },
  {
   "cell_type": "code",
   "execution_count": 3,
   "metadata": {},
   "outputs": [],
   "source": [
    "f=open('target.txt','w')"
   ]
  },
  {
   "cell_type": "code",
   "execution_count": 4,
   "metadata": {},
   "outputs": [
    {
     "data": {
      "text/plain": [
       "19"
      ]
     },
     "execution_count": 4,
     "metadata": {},
     "output_type": "execute_result"
    }
   ],
   "source": [
    "f.write(\"hello,how are u????\")"
   ]
  },
  {
   "cell_type": "code",
   "execution_count": 5,
   "metadata": {},
   "outputs": [],
   "source": [
    "f.close()"
   ]
  },
  {
   "cell_type": "code",
   "execution_count": 6,
   "metadata": {},
   "outputs": [
    {
     "name": "stdout",
     "output_type": "stream",
     "text": [
      " Volume in drive C has no label.\n",
      " Volume Serial Number is 42BB-F143\n",
      "\n",
      " Directory of C:\\Users\\BHARAT\\Desktop\\Python\n",
      "\n",
      "10/01/2019  08:50 AM    <DIR>          .\n",
      "10/01/2019  08:50 AM    <DIR>          ..\n",
      "10/01/2019  03:44 AM    <DIR>          .ipynb_checkpoints\n",
      "08/05/2019  12:36 AM               127 1st.py\n",
      "08/05/2019  12:45 AM               144 2nd.py\n",
      "08/05/2019  12:54 AM               167 3rd.py\n",
      "08/05/2019  01:18 AM               132 6th.py\n",
      "08/07/2019  01:47 AM               212 armstrong.py\n",
      "08/29/2019  04:03 AM             8,552 basic string.ipynb\n",
      "08/05/2019  01:43 AM               473 choice.py\n",
      "09/11/2019  03:37 AM             1,045 conditional statmant.ipynb\n",
      "09/12/2019  04:32 AM             6,106 conditional.ipynb\n",
      "09/04/2019  04:13 AM             5,104 dictionary.ipynb\n",
      "08/05/2019  01:01 AM               173 evenodd.py\n",
      "10/01/2019  08:50 AM            12,249 file and exception.ipynb\n",
      "10/01/2019  03:36 AM                98 file,txt\n",
      "08/07/2019  02:20 AM                98 for.py\n",
      "10/01/2019  02:48 AM            46,914 function.ipynb\n",
      "08/05/2019  01:22 AM               194 intress.py\n",
      "08/05/2019  02:58 AM               378 lastdigit.py\n",
      "10/01/2019  02:46 AM             6,012 lemda.ipynb\n",
      "09/01/2019  12:58 AM             4,300 list,dict&tuples.ipynb\n",
      "09/04/2019  03:00 AM             2,136 list.ipynb\n",
      "08/05/2019  10:27 PM                67 logic.py\n",
      "09/19/2019  03:09 AM         1,041,272 loop practice.ipynb\n",
      "08/05/2019  11:18 PM                53 loop.py\n",
      "08/05/2019  11:40 PM                94 loop1.py\n",
      "08/06/2019  01:29 AM               517 loop3.py\n",
      "08/07/2019  02:01 AM               142 loop4.py\n",
      "09/16/2019  05:26 AM             4,153 looping.ipynb\n",
      "09/16/2019  04:09 AM             5,006 loops......ipynb\n",
      "08/07/2019  04:17 AM               414 magic.py\n",
      "08/06/2019  01:30 AM               251 nestedif.py\n",
      "08/05/2019  11:07 PM               484 nif.py\n",
      "08/08/2019  01:20 AM                95 pattern1.py\n",
      "08/07/2019  04:17 AM               190 pelindrom'.py\n",
      "08/12/2019  12:36 AM               192 prime.py\n",
      "08/12/2019  12:25 AM               289 prime1.py\n",
      "08/11/2019  11:57 PM               250 prime2.py\n",
      "08/08/2019  03:56 AM               369 pttn10.py\n",
      "08/08/2019  01:58 AM                97 pttn2.py\n",
      "08/08/2019  01:34 AM                91 pttn3.py\n",
      "08/08/2019  01:41 AM                93 pttn4.py\n",
      "08/08/2019  01:42 AM               129 pttn5.py\n",
      "08/08/2019  01:48 AM               123 pttn6.py\n",
      "08/08/2019  01:53 AM                94 pttn7.py\n",
      "08/08/2019  03:21 AM               185 pttn8.py\n",
      "08/08/2019  02:11 AM               188 pttn9.py\n",
      "09/19/2019  03:42 AM                13 README.md\n",
      "08/07/2019  01:56 AM               112 rev.py\n",
      "08/07/2019  01:57 AM               114 rev1.py\n",
      "09/02/2019  04:16 AM             6,888 string fun.ipynb\n",
      "10/01/2019  08:51 AM                19 target.txt\n",
      "08/07/2019  01:30 AM               148 ttric1.py\n",
      "08/07/2019  02:10 AM               182 ttric2.py\n",
      "08/07/2019  02:27 AM               210 twin.py\n",
      "08/28/2019  02:24 AM               838 Untitled.ipynb\n",
      "08/28/2019  02:25 AM               555 Untitled1.ipynb\n",
      "09/30/2019  11:42 PM               555 Untitled10.ipynb\n",
      "10/01/2019  03:46 AM               658 Untitled11.ipynb\n",
      "08/29/2019  01:16 AM             3,670 Untitled2.ipynb\n",
      "08/29/2019  01:16 AM                72 Untitled3.ipynb\n",
      "09/03/2019  02:48 AM             1,114 Untitled4.ipynb\n",
      "09/04/2019  02:28 AM             6,216 Untitled5.ipynb\n",
      "09/05/2019  04:35 AM             4,744 Untitled6.ipynb\n",
      "09/16/2019  04:16 AM             1,099 Untitled7.ipynb\n",
      "09/16/2019  04:17 AM             1,105 Untitled8.ipynb\n",
      "09/25/2019  04:35 AM             2,553 Untitled9.ipynb\n",
      "08/05/2019  01:09 AM               144 vowel.py\n",
      "08/05/2019  01:54 AM               524 week.py\n",
      "              67 File(s)      1,180,985 bytes\n",
      "               3 Dir(s)  75,016,499,200 bytes free\n"
     ]
    }
   ],
   "source": [
    "ls"
   ]
  },
  {
   "cell_type": "code",
   "execution_count": 9,
   "metadata": {},
   "outputs": [
    {
     "data": {
      "text/plain": [
       "<_io.TextIOWrapper name='target.txt' mode='w' encoding='cp1252'>"
      ]
     },
     "execution_count": 9,
     "metadata": {},
     "output_type": "execute_result"
    }
   ],
   "source": [
    "f"
   ]
  },
  {
   "cell_type": "code",
   "execution_count": 11,
   "metadata": {},
   "outputs": [],
   "source": [
    "file=open('target.txt')"
   ]
  },
  {
   "cell_type": "code",
   "execution_count": 13,
   "metadata": {},
   "outputs": [
    {
     "data": {
      "text/plain": [
       "'hello,how are u????'"
      ]
     },
     "execution_count": 13,
     "metadata": {},
     "output_type": "execute_result"
    }
   ],
   "source": [
    "file.read()"
   ]
  },
  {
   "cell_type": "code",
   "execution_count": 16,
   "metadata": {},
   "outputs": [
    {
     "data": {
      "text/plain": [
       "0"
      ]
     },
     "execution_count": 16,
     "metadata": {},
     "output_type": "execute_result"
    }
   ],
   "source": [
    "file.seek(0)"
   ]
  },
  {
   "cell_type": "code",
   "execution_count": 18,
   "metadata": {},
   "outputs": [
    {
     "data": {
      "text/plain": [
       "''"
      ]
     },
     "execution_count": 18,
     "metadata": {},
     "output_type": "execute_result"
    }
   ],
   "source": [
    "file.read()"
   ]
  },
  {
   "cell_type": "code",
   "execution_count": 19,
   "metadata": {},
   "outputs": [
    {
     "data": {
      "text/plain": [
       "3"
      ]
     },
     "execution_count": 19,
     "metadata": {},
     "output_type": "execute_result"
    }
   ],
   "source": [
    "file.seek(3)"
   ]
  },
  {
   "cell_type": "code",
   "execution_count": 21,
   "metadata": {},
   "outputs": [
    {
     "data": {
      "text/plain": [
       "''"
      ]
     },
     "execution_count": 21,
     "metadata": {},
     "output_type": "execute_result"
    }
   ],
   "source": [
    "file.read()"
   ]
  },
  {
   "cell_type": "code",
   "execution_count": 22,
   "metadata": {},
   "outputs": [],
   "source": [
    "data=file.read()"
   ]
  },
  {
   "cell_type": "code",
   "execution_count": 23,
   "metadata": {},
   "outputs": [
    {
     "data": {
      "text/plain": [
       "''"
      ]
     },
     "execution_count": 23,
     "metadata": {},
     "output_type": "execute_result"
    }
   ],
   "source": [
    "data"
   ]
  },
  {
   "cell_type": "code",
   "execution_count": 24,
   "metadata": {},
   "outputs": [],
   "source": [
    "file.close()"
   ]
  },
  {
   "cell_type": "code",
   "execution_count": 30,
   "metadata": {},
   "outputs": [
    {
     "data": {
      "text/plain": [
       "<_io.TextIOWrapper name='target.txt' mode='r' encoding='cp1252'>"
      ]
     },
     "execution_count": 30,
     "metadata": {},
     "output_type": "execute_result"
    }
   ],
   "source": [
    "file"
   ]
  },
  {
   "cell_type": "code",
   "execution_count": 33,
   "metadata": {},
   "outputs": [],
   "source": [
    "file=open('target.txt')"
   ]
  },
  {
   "cell_type": "code",
   "execution_count": 35,
   "metadata": {},
   "outputs": [],
   "source": [
    "data=file.read()"
   ]
  },
  {
   "cell_type": "code",
   "execution_count": 36,
   "metadata": {},
   "outputs": [
    {
     "data": {
      "text/plain": [
       "''"
      ]
     },
     "execution_count": 36,
     "metadata": {},
     "output_type": "execute_result"
    }
   ],
   "source": [
    "data"
   ]
  },
  {
   "cell_type": "code",
   "execution_count": 39,
   "metadata": {},
   "outputs": [
    {
     "data": {
      "text/plain": [
       "0"
      ]
     },
     "execution_count": 39,
     "metadata": {},
     "output_type": "execute_result"
    }
   ],
   "source": [
    "file.seek(0)"
   ]
  },
  {
   "cell_type": "code",
   "execution_count": 42,
   "metadata": {},
   "outputs": [
    {
     "data": {
      "text/plain": [
       "'hello,how are u????'"
      ]
     },
     "execution_count": 42,
     "metadata": {},
     "output_type": "execute_result"
    }
   ],
   "source": [
    "file.read()"
   ]
  },
  {
   "cell_type": "code",
   "execution_count": 44,
   "metadata": {},
   "outputs": [
    {
     "data": {
      "text/plain": [
       "19"
      ]
     },
     "execution_count": 44,
     "metadata": {},
     "output_type": "execute_result"
    }
   ],
   "source": [
    "file.tell()"
   ]
  },
  {
   "cell_type": "code",
   "execution_count": 46,
   "metadata": {},
   "outputs": [
    {
     "data": {
      "text/plain": [
       "False"
      ]
     },
     "execution_count": 46,
     "metadata": {},
     "output_type": "execute_result"
    }
   ],
   "source": [
    "file.writable()"
   ]
  },
  {
   "cell_type": "code",
   "execution_count": 47,
   "metadata": {},
   "outputs": [
    {
     "data": {
      "text/plain": [
       "True"
      ]
     },
     "execution_count": 47,
     "metadata": {},
     "output_type": "execute_result"
    }
   ],
   "source": [
    "file.readable()"
   ]
  },
  {
   "cell_type": "code",
   "execution_count": 52,
   "metadata": {},
   "outputs": [],
   "source": [
    "file.close()"
   ]
  },
  {
   "cell_type": "code",
   "execution_count": 53,
   "metadata": {},
   "outputs": [
    {
     "ename": "NameError",
     "evalue": "name 'table' is not defined",
     "output_type": "error",
     "traceback": [
      "\u001b[1;31m---------------------------------------------------------------------------\u001b[0m",
      "\u001b[1;31mNameError\u001b[0m                                 Traceback (most recent call last)",
      "\u001b[1;32m<ipython-input-53-188bcb9781c8>\u001b[0m in \u001b[0;36m<module>\u001b[1;34m()\u001b[0m\n\u001b[1;32m----> 1\u001b[1;33m \u001b[0mfile\u001b[0m\u001b[1;33m=\u001b[0m\u001b[0mopen\u001b[0m\u001b[1;33m(\u001b[0m\u001b[0mtable\u001b[0m\u001b[1;33m.\u001b[0m\u001b[0mtaxt\u001b[0m\u001b[1;33m)\u001b[0m\u001b[1;33m\u001b[0m\u001b[0m\n\u001b[0m",
      "\u001b[1;31mNameError\u001b[0m: name 'table' is not defined"
     ]
    }
   ],
   "source": []
  },
  {
   "cell_type": "code",
   "execution_count": 55,
   "metadata": {},
   "outputs": [],
   "source": [
    "file=open('table.txt')"
   ]
  },
  {
   "cell_type": "code",
   "execution_count": 56,
   "metadata": {},
   "outputs": [],
   "source": [
    "data=file.read()\n",
    "file.close()"
   ]
  },
  {
   "cell_type": "code",
   "execution_count": 57,
   "metadata": {},
   "outputs": [
    {
     "data": {
      "text/plain": [
       "'NAME\\tAGE\\tCITY\\tCONTACT      GENDER\\n\\nbharat  22\\tpbr\\t3141\\t     male\\n\\nridh\\t21\\tjnd\\t4343         fmale\\t\\t'"
      ]
     },
     "execution_count": 57,
     "metadata": {},
     "output_type": "execute_result"
    }
   ],
   "source": [
    "data"
   ]
  },
  {
   "cell_type": "code",
   "execution_count": 60,
   "metadata": {},
   "outputs": [],
   "source": [
    "data=data.split(\"\\n\")"
   ]
  },
  {
   "cell_type": "code",
   "execution_count": 61,
   "metadata": {},
   "outputs": [
    {
     "data": {
      "text/plain": [
       "['NAME\\tAGE\\tCITY\\tCONTACT      GENDER',\n",
       " '',\n",
       " 'bharat  22\\tpbr\\t3141\\t     male',\n",
       " '',\n",
       " 'ridh\\t21\\tjnd\\t4343         fmale\\t\\t']"
      ]
     },
     "execution_count": 61,
     "metadata": {},
     "output_type": "execute_result"
    }
   ],
   "source": [
    "data"
   ]
  },
  {
   "cell_type": "code",
   "execution_count": 62,
   "metadata": {},
   "outputs": [
    {
     "data": {
      "text/plain": [
       "['NAME\\tAGE\\tCITY\\tCONTACT      GENDER',\n",
       " '',\n",
       " 'bharat  22\\tpbr\\t3141\\t     male',\n",
       " '',\n",
       " 'ridh\\t21\\tjnd\\t4343         fmale\\t\\t']"
      ]
     },
     "execution_count": 62,
     "metadata": {},
     "output_type": "execute_result"
    }
   ],
   "source": [
    "data"
   ]
  },
  {
   "cell_type": "code",
   "execution_count": 64,
   "metadata": {},
   "outputs": [],
   "source": [
    "sep=list(map(lambda st:st.split(),data))"
   ]
  },
  {
   "cell_type": "code",
   "execution_count": 65,
   "metadata": {},
   "outputs": [
    {
     "data": {
      "text/plain": [
       "[['NAME', 'AGE', 'CITY', 'CONTACT', 'GENDER'],\n",
       " [],\n",
       " ['bharat', '22', 'pbr', '3141', 'male'],\n",
       " [],\n",
       " ['ridh', '21', 'jnd', '4343', 'fmale']]"
      ]
     },
     "execution_count": 65,
     "metadata": {},
     "output_type": "execute_result"
    }
   ],
   "source": [
    "sep"
   ]
  },
  {
   "cell_type": "code",
   "execution_count": 71,
   "metadata": {},
   "outputs": [
    {
     "data": {
      "text/plain": [
       "['NAME\\tAGE\\tCITY\\tCONTACT      GENDER',\n",
       " '',\n",
       " 'bharat  22\\tpbr\\t3141\\t     male',\n",
       " '',\n",
       " 'ridh\\t21\\tjnd\\t4343         fmale\\t\\t']"
      ]
     },
     "execution_count": 71,
     "metadata": {},
     "output_type": "execute_result"
    }
   ],
   "source": [
    "data"
   ]
  },
  {
   "cell_type": "code",
   "execution_count": 73,
   "metadata": {},
   "outputs": [],
   "source": [
    "alg=list(map(lambda c:c.split(),data))"
   ]
  },
  {
   "cell_type": "code",
   "execution_count": 74,
   "metadata": {},
   "outputs": [
    {
     "data": {
      "text/plain": [
       "[['NAME', 'AGE', 'CITY', 'CONTACT', 'GENDER'],\n",
       " [],\n",
       " ['bharat', '22', 'pbr', '3141', 'male'],\n",
       " [],\n",
       " ['ridh', '21', 'jnd', '4343', 'fmale']]"
      ]
     },
     "execution_count": 74,
     "metadata": {},
     "output_type": "execute_result"
    }
   ],
   "source": [
    "alg"
   ]
  },
  {
   "cell_type": "code",
   "execution_count": 76,
   "metadata": {},
   "outputs": [
    {
     "data": {
      "text/plain": [
       "[]"
      ]
     },
     "execution_count": 76,
     "metadata": {},
     "output_type": "execute_result"
    }
   ],
   "source": [
    "alg.pop(1)"
   ]
  },
  {
   "cell_type": "code",
   "execution_count": 78,
   "metadata": {},
   "outputs": [
    {
     "data": {
      "text/plain": [
       "[]"
      ]
     },
     "execution_count": 78,
     "metadata": {},
     "output_type": "execute_result"
    }
   ],
   "source": [
    "alg.pop(2)"
   ]
  },
  {
   "cell_type": "code",
   "execution_count": 81,
   "metadata": {},
   "outputs": [
    {
     "name": "stdout",
     "output_type": "stream",
     "text": [
      "[['NAME', 'AGE', 'CITY', 'CONTACT', 'GENDER'], ['bharat', '22', 'pbr', '3141', 'male'], ['ridh', '21', 'jnd', '4343', 'fmale']]\n"
     ]
    }
   ],
   "source": [
    "print(alg)"
   ]
  },
  {
   "cell_type": "code",
   "execution_count": 83,
   "metadata": {},
   "outputs": [
    {
     "name": "stdout",
     "output_type": "stream",
     "text": [
      "NAME\tAGE\tCITY\tCONTACT\tGENDER\n",
      "bharat\t22\tpbr\t3141\tmale\n",
      "ridh\t21\tjnd\t4343\tfmale\n"
     ]
    }
   ],
   "source": [
    "for a,b,c,d,f in alg:\n",
    "    print(a,b,c,d,f,sep='\\t')"
   ]
  },
  {
   "cell_type": "code",
   "execution_count": 2,
   "metadata": {},
   "outputs": [
    {
     "ename": "NameError",
     "evalue": "name 'data' is not defined",
     "output_type": "error",
     "traceback": [
      "\u001b[1;31m---------------------------------------------------------------------------\u001b[0m",
      "\u001b[1;31mNameError\u001b[0m                                 Traceback (most recent call last)",
      "\u001b[1;32m<ipython-input-2-9c91d07b49ae>\u001b[0m in \u001b[0;36m<module>\u001b[1;34m()\u001b[0m\n\u001b[1;32m----> 1\u001b[1;33m \u001b[1;32mfor\u001b[0m \u001b[0mline\u001b[0m \u001b[1;32min\u001b[0m \u001b[0mdata\u001b[0m\u001b[1;33m:\u001b[0m\u001b[1;33m\u001b[0m\u001b[0m\n\u001b[0m\u001b[0;32m      2\u001b[0m     \u001b[0mprint\u001b[0m\u001b[1;33m(\u001b[0m\u001b[0mline\u001b[0m\u001b[1;33m,\u001b[0m\u001b[0mend\u001b[0m\u001b[1;33m=\u001b[0m\u001b[1;34m''\u001b[0m\u001b[1;33m)\u001b[0m\u001b[1;33m\u001b[0m\u001b[0m\n",
      "\u001b[1;31mNameError\u001b[0m: name 'data' is not defined"
     ]
    }
   ],
   "source": [
    "for line in data:\n",
    "    print(line,end='')"
   ]
  }
 ],
 "metadata": {
  "kernelspec": {
   "display_name": "Python 3",
   "language": "python",
   "name": "python3"
  },
  "language_info": {
   "codemirror_mode": {
    "name": "ipython",
    "version": 3
   },
   "file_extension": ".py",
   "mimetype": "text/x-python",
   "name": "python",
   "nbconvert_exporter": "python",
   "pygments_lexer": "ipython3",
   "version": "3.6.5"
  }
 },
 "nbformat": 4,
 "nbformat_minor": 2
}
