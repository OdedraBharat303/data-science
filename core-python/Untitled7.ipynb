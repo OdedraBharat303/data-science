{
 "cells": [
  {
   "cell_type": "code",
   "execution_count": null,
   "metadata": {},
   "outputs": [],
   "source": [
    "import random\n",
    "a=random.randint(1,50)\n",
    "print(a)\n",
    "\n",
    "\n",
    "\n",
    "count=0\n",
    "while count<=5:\n",
    "    u=int(input(\"enter any nuber\"))\n",
    "    \n",
    "    \n",
    "    if count==5:\n",
    "\n",
    "        break\n",
    "    elif a==u:\n",
    "        print(\"ur winner\")\n",
    "    elif u<a:\n",
    "        print(\"number is less\")\n",
    "    elif u>a:\n",
    "        print(\"number is greater\")\n",
    "    count+1\n",
    "else:\n",
    "    print(\"looser\")"
   ]
  }
 ],
 "metadata": {
  "kernelspec": {
   "display_name": "Python 3",
   "language": "python",
   "name": "python3"
  },
  "language_info": {
   "codemirror_mode": {
    "name": "ipython",
    "version": 3
   },
   "file_extension": ".py",
   "mimetype": "text/x-python",
   "name": "python",
   "nbconvert_exporter": "python",
   "pygments_lexer": "ipython3",
   "version": "3.6.5"
  }
 },
 "nbformat": 4,
 "nbformat_minor": 2
}
