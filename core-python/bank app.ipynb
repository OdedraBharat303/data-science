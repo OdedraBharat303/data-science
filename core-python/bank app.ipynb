{
 "cells": [
  {
   "cell_type": "code",
   "execution_count": 3,
   "metadata": {},
   "outputs": [],
   "source": [
    "import getpass;\n",
    "def signup():\n",
    "    name=input(\"enter your name :\")\n",
    "    email=input(\"enter your email :\")\n",
    "    ph_no=int(input(\"enter your mobile number\"))\n",
    "    password=getpass.getpass(\"enter password :\");    \n",
    "    "
   ]
  },
  {
   "cell_type": "code",
   "execution_count": 4,
   "metadata": {},
   "outputs": [
    {
     "name": "stdout",
     "output_type": "stream",
     "text": [
      "enter your name :bharat odedra\n",
      "enter your email :bharat@gmail.com\n",
      "enter your mobile number9824503141\n",
      "enter password :········\n"
     ]
    }
   ],
   "source": [
    "signup()"
   ]
  },
  {
   "cell_type": "code",
   "execution_count": 15,
   "metadata": {},
   "outputs": [
    {
     "name": "stdout",
     "output_type": "stream",
     "text": [
      "12436197712181760454454461357940280369\n"
     ]
    }
   ],
   "source": [
    "import uuid\n",
    "ac_no=uuid.uuid1()\n",
    "print(ac_no.int)"
   ]
  },
  {
   "cell_type": "code",
   "execution_count": null,
   "metadata": {},
   "outputs": [],
   "source": []
  }
 ],
 "metadata": {
  "kernelspec": {
   "display_name": "Python 3",
   "language": "python",
   "name": "python3"
  },
  "language_info": {
   "codemirror_mode": {
    "name": "ipython",
    "version": 3
   },
   "file_extension": ".py",
   "mimetype": "text/x-python",
   "name": "python",
   "nbconvert_exporter": "python",
   "pygments_lexer": "ipython3",
   "version": "3.6.5"
  }
 },
 "nbformat": 4,
 "nbformat_minor": 2
}
