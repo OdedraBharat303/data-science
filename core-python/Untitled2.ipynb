{
 "cells": [
  {
   "cell_type": "code",
   "execution_count": 2,
   "metadata": {},
   "outputs": [
    {
     "name": "stdout",
     "output_type": "stream",
     "text": [
      "enter number789\n",
      "24\n",
      "504\n",
      "not twin\n"
     ]
    }
   ],
   "source": [
    "a=int(input(\"enter number\"))\n",
    "sum=0\n",
    "num=1\n",
    "while a>0:\n",
    "    r=a%10\n",
    "    sum=sum+r\n",
    "    num=num*r\n",
    "    a=a//10\n",
    "print(sum)\n",
    "print(num)\n",
    "if num==sum:\n",
    "    print(\"twin\")\n",
    "else:\n",
    "    print(\"not twin\")"
   ]
  },
  {
   "cell_type": "code",
   "execution_count": 6,
   "metadata": {},
   "outputs": [
    {
     "name": "stdout",
     "output_type": "stream",
     "text": [
      "enter numbrer70\n",
      "70 * 1 = 70\n",
      "70 * 2 = 140\n",
      "70 * 3 = 210\n",
      "70 * 4 = 280\n",
      "70 * 5 = 350\n",
      "70 * 6 = 420\n",
      "70 * 7 = 490\n",
      "70 * 8 = 560\n",
      "70 * 9 = 630\n"
     ]
    }
   ],
   "source": [
    "a=int(input(\"enter numbrer\") )\n",
    "i=1\n",
    "while i<10:\n",
    "    ans=a*i\n",
    "    print(a,\"*\",i,\"=\",ans)\n",
    "    i=i+1"
   ]
  },
  {
   "cell_type": "code",
   "execution_count": 21,
   "metadata": {},
   "outputs": [
    {
     "name": "stdout",
     "output_type": "stream",
     "text": [
      "*********\r\n",
      "*********\r\n",
      "*********\r\n",
      "*********\r\n",
      "*********\r\n",
      "*********\r\n",
      "*********\r\n",
      "*********\r\n",
      "*********\r\n"
     ]
    }
   ],
   "source": [
    "for i in range(1,10):\n",
    "    for j in range(1,10):\n",
    "        print(\"*\",end=\"\")\n",
    "    print(\"\\r\")\n",
    "    "
   ]
  },
  {
   "cell_type": "code",
   "execution_count": 45,
   "metadata": {},
   "outputs": [
    {
     "name": "stdout",
     "output_type": "stream",
     "text": [
      "******\n",
      "*****\n",
      "****\n",
      "***\n",
      "**\n",
      "*\n"
     ]
    }
   ],
   "source": [
    "\n",
    "for i in range(6,0,-1):\n",
    "    print(\"*\"*i)\n",
    "    \n",
    "    "
   ]
  },
  {
   "cell_type": "code",
   "execution_count": 65,
   "metadata": {},
   "outputs": [
    {
     "name": "stdout",
     "output_type": "stream",
     "text": [
      "enter value10\n",
      " \n",
      " \n",
      " \n",
      " \n",
      " \n",
      " \n",
      " \n",
      " \n",
      " \n",
      " \n",
      " \n",
      " \n",
      " \n",
      " \n",
      " \n",
      " \n",
      " \n",
      " \n",
      "* \n",
      "* * \n",
      "* * * \n",
      "* * * * \n",
      "* * * * * \n",
      "* * * * * * \n",
      "* * * * * * * \n",
      "* * * * * * * * \n",
      "* * * * * * * * * \n",
      "* * * * * * * * * * \n"
     ]
    }
   ],
   "source": [
    "a=int(input(\"enter value\"))\n",
    "k=2*a-2\n",
    "for i in range(0,a):\n",
    "    for j in range(0,k):\n",
    "        print(\" \")\n",
    "        k=k-1\n",
    "    for m in range(0,i+1):\n",
    "        print(\"*\",end=\" \")\n",
    "    print(\"\\r\")"
   ]
  },
  {
   "cell_type": "code",
   "execution_count": null,
   "metadata": {},
   "outputs": [],
   "source": []
  }
 ],
 "metadata": {
  "kernelspec": {
   "display_name": "Python 3",
   "language": "python",
   "name": "python3"
  },
  "language_info": {
   "codemirror_mode": {
    "name": "ipython",
    "version": 3
   },
   "file_extension": ".py",
   "mimetype": "text/x-python",
   "name": "python",
   "nbconvert_exporter": "python",
   "pygments_lexer": "ipython3",
   "version": "3.6.5"
  }
 },
 "nbformat": 4,
 "nbformat_minor": 2
}
