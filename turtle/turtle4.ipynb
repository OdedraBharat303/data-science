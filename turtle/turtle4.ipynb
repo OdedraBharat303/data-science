{
 "cells": [
  {
   "cell_type": "code",
   "execution_count": 4,
   "metadata": {},
   "outputs": [],
   "source": [
    "import turtle\n",
    "import random as r\n",
    "wn = turtle.Screen() \n",
    "wn.bgcolor(\"light green\") \n",
    "skk = turtle.Turtle() \n",
    "skk.color(\"blue\") \n",
    "  \n",
    "def sr(size): \n",
    "    for i in range(4): \n",
    "        skk.fd(size) \n",
    "        skk.left(90) \n",
    "        size = size + 5"
   ]
  },
  {
   "cell_type": "code",
   "execution_count": 6,
   "metadata": {},
   "outputs": [],
   "source": [
    "for var in range(50):\n",
    "    sr(r.randint(0,100))"
   ]
  }
 ],
 "metadata": {
  "kernelspec": {
   "display_name": "Python 3",
   "language": "python",
   "name": "python3"
  },
  "language_info": {
   "codemirror_mode": {
    "name": "ipython",
    "version": 3
   },
   "file_extension": ".py",
   "mimetype": "text/x-python",
   "name": "python",
   "nbconvert_exporter": "python",
   "pygments_lexer": "ipython3",
   "version": "3.6.5"
  }
 },
 "nbformat": 4,
 "nbformat_minor": 2
}
